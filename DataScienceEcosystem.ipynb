{
 "cells": [
  {
   "cell_type": "markdown",
   "id": "d83d4ef2-05d1-4c39-9719-96a49690cd43",
   "metadata": {},
   "source": [
    "# Data Science Tools and Ecosystem "
   ]
  },
  {
   "cell_type": "markdown",
   "id": "2f57fa7d-eec5-4e20-b75a-0c37590bb50c",
   "metadata": {},
   "source": [
    "## In this notebook, Data Science Tools and Ecosystem are summarized."
   ]
  },
  {
   "cell_type": "markdown",
   "id": "cae87e38-784a-49ea-a7b0-457bd610a042",
   "metadata": {},
   "source": [
    "### Some of the popular languages that Data Scientists use are.\n"
   ]
  },
  {
   "cell_type": "markdown",
   "id": "f62cf664-6860-432a-979a-b8deaa190f4b",
   "metadata": {},
   "source": [
    "1. python\n",
    "2. R\n",
    "3. SQL"
   ]
  },
  {
   "cell_type": "markdown",
   "id": "3c0c1b72-4e00-4cdd-8806-9e2940ebf36c",
   "metadata": {},
   "source": [
    "## Some of the commonly used libraries used by Data Scientists include:"
   ]
  },
  {
   "cell_type": "markdown",
   "id": "7bc0d93d-eb9e-4a53-a9c2-141623eb95d1",
   "metadata": {},
   "source": [
    "1. numpy\n",
    "2. Sciktlearn\n",
    "3. Pandas"
   ]
  },
  {
   "cell_type": "markdown",
   "id": "3ae2b05c-4e03-46a6-8aea-e90a86596450",
   "metadata": {},
   "source": [
    "### Data Science Tools\n"
   ]
  },
  {
   "cell_type": "markdown",
   "id": "9e04bad8-46a8-4df6-87c4-339910975ef0",
   "metadata": {},
   "source": [
    "\n",
    "|Jupyter Notebook|\n",
    "| _ _ _ _ _ _ _ _|\n",
    "|Apache Spark|\n",
    "| _ _ _ _ _ _ _ _|\n",
    "|RStudio|"
   ]
  },
  {
   "cell_type": "markdown",
   "id": "fb6ea745-4ac3-4cf7-a153-a1f3c251d464",
   "metadata": {},
   "source": [
    "#### Below are a few examples of evaluating arithmetic expressions in Python"
   ]
  },
  {
   "cell_type": "markdown",
   "id": "11594cc6-4975-4df0-b125-3110502fb28a",
   "metadata": {},
   "source": [
    "\"\"\"This a simple arithmetic expression to mutiply then add integers.\"\"\""
   ]
  },
  {
   "cell_type": "code",
   "execution_count": 51,
   "id": "11fe9782-053e-463d-af88-a92f7363a45e",
   "metadata": {},
   "outputs": [
    {
     "data": {
      "text/plain": [
       "17"
      ]
     },
     "execution_count": 51,
     "metadata": {},
     "output_type": "execute_result"
    }
   ],
   "source": [
    "r = (3*4)+5\n",
    "r"
   ]
  },
  {
   "cell_type": "markdown",
   "id": "8bbfbbc7-6d07-4c28-9b0d-2ab19ce584bf",
   "metadata": {},
   "source": [
    "\"\"\"This will convert 200 minutes to hours by diving by 60\"\"\""
   ]
  },
  {
   "cell_type": "code",
   "execution_count": 54,
   "id": "9587a443-c9d4-4f1a-a8a2-42eb58aff3fe",
   "metadata": {},
   "outputs": [
    {
     "data": {
      "text/plain": [
       "3.3333333333333335"
      ]
     },
     "execution_count": 54,
     "metadata": {},
     "output_type": "execute_result"
    }
   ],
   "source": [
    "m = 200\n",
    "h = 60\n",
    "result = m/60\n",
    "result"
   ]
  },
  {
   "cell_type": "markdown",
   "id": "66065009-801d-4d58-8eb2-0dbc3f427c1f",
   "metadata": {},
   "source": [
    "**Objectives**"
   ]
  },
  {
   "cell_type": "markdown",
   "id": "43589987-d35d-4c49-8341-4e8ad433d27f",
   "metadata": {},
   "source": [
    " *  List of libraries used in data science\n",
    " *  List of Popular languages for datascience\n",
    " *  Arithmetic expressions injupyter\n",
    " *  Multiplying and adding\n",
    " * Division in jupyter"
   ]
  },
  {
   "cell_type": "markdown",
   "id": "f86184da-1c24-492d-ac37-5c5fb82b3d80",
   "metadata": {},
   "source": [
    "##### Author\n",
    "**Kunihira joshua**"
   ]
  },
  {
   "cell_type": "code",
   "execution_count": null,
   "id": "13c67bcd-9e74-41c7-8af6-4fa1d12f2a84",
   "metadata": {},
   "outputs": [],
   "source": []
  }
 ],
 "metadata": {
  "kernelspec": {
   "display_name": "Python 3 (ipykernel)",
   "language": "python",
   "name": "python3"
  },
  "language_info": {
   "codemirror_mode": {
    "name": "ipython",
    "version": 3
   },
   "file_extension": ".py",
   "mimetype": "text/x-python",
   "name": "python",
   "nbconvert_exporter": "python",
   "pygments_lexer": "ipython3",
   "version": "3.12.4"
  }
 },
 "nbformat": 4,
 "nbformat_minor": 5
}
